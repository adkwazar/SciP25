{
 "cells": [
  {
   "cell_type": "markdown",
   "id": "a2fd29d5",
   "metadata": {},
   "source": [
    "<h3> SciPython/Practical_classes_3"
   ]
  },
  {
   "cell_type": "code",
   "execution_count": 60,
   "id": "18695ddf",
   "metadata": {},
   "outputs": [],
   "source": [
    "import numpy as np\n",
    "import matplotlib.pyplot as plt\n",
    "import pandas as pd"
   ]
  },
  {
   "cell_type": "markdown",
   "id": "bf057202",
   "metadata": {},
   "source": [
    "<h4> Exercise1: Consider the following linear model describing the relationship between $Y$ and variables $X_1$, $X_2$:  \n",
    "\n",
    "$Y = 2X_1 - 3X_2 + 4$\n",
    "\n",
    "Using this model, answer the following questions:  \n",
    "\n",
    "- If $X_1 = 10$ and $X_2 = 40$, what is the value of $Y$?  \n",
    "- If $X_1$ increases by 1 while $X_2$ remains constant, by how much does $Y$ change?  "
   ]
  },
  {
   "cell_type": "markdown",
   "id": "07cd005f",
   "metadata": {},
   "source": [
    "<h4> Exercise2: Implement the Gradient Descent method for finding local minima and maxima of the function  \n",
    " \n",
    "$y = \\sin(x^2 + 6x + 7) + x^2 - x^3$  \n",
    "\n",
    "Start with initial points $x_0 = 2$ and $x_0 = -1$, and experiment with different values of $\\alpha$.  "
   ]
  },
  {
   "cell_type": "code",
   "execution_count": 61,
   "id": "f8aa506c",
   "metadata": {},
   "outputs": [
    {
     "data": {
      "image/png": "[encoded data removed]",
      "text/plain": [
       "<Figure size 640x480 with 1 Axes>"
      ]
     },
     "metadata": {},
     "output_type": "display_data"
    }
   ],
   "source": [
    "x = np.linspace(-2, 2, 100)\n",
    "y = np.sin(x**2+6*x+7)+x**2 - x**3\n",
    "\n",
    "plt.plot(x,y)\n",
    "plt.show()"
   ]
  },
  {
   "cell_type": "markdown",
   "id": "ba854145",
   "metadata": {},
   "source": [
    "<h4> Linear regression model"
   ]
  },
  {
   "cell_type": "code",
   "execution_count": 62,
   "id": "7a7d01b2-1e0c-4e60-ae11-27ed8bd67c9e",
   "metadata": {},
   "outputs": [],
   "source": [
    "from sklearn.linear_model import LinearRegression\n",
    "\n",
    "X = np.array([[1,4],[5,6],[2,2],[6,7],[9,-4],[-2,-3],[-5,1]])\n",
    "y = np.dot(X, [3, -4])+5+np.random.normal(0,1, 7)  #y=3x1-4x2+5+noise\n",
    "\n",
    "\n",
    "model = LinearRegression()\n",
    "model.fit(X, y);"
   ]
  },
  {
   "cell_type": "code",
   "execution_count": 63,
   "id": "6a619a6e",
   "metadata": {},
   "outputs": [
    {
     "data": {
      "text/plain": [
       "array([ 2.92374275, -3.99523903])"
      ]
     },
     "execution_count": 63,
     "metadata": {},
     "output_type": "execute_result"
    }
   ],
   "source": [
    "model.coef_ #weights for variables"
   ]
  },
  {
   "cell_type": "code",
   "execution_count": 64,
   "id": "017a1c1b",
   "metadata": {},
   "outputs": [
    {
     "data": {
      "text/plain": [
       "4.936996694312543"
      ]
     },
     "execution_count": 64,
     "metadata": {},
     "output_type": "execute_result"
    }
   ],
   "source": [
    "model.intercept_ #w0 parameter"
   ]
  },
  {
   "cell_type": "code",
   "execution_count": 65,
   "id": "120d0e37",
   "metadata": {},
   "outputs": [
    {
     "name": "stdout",
     "output_type": "stream",
     "text": [
      "0.9995327049990941\n"
     ]
    }
   ],
   "source": [
    "r_sq = model.score(X, y) #R2 for model\n",
    "print(r_sq) "
   ]
  },
  {
   "cell_type": "code",
   "execution_count": 66,
   "id": "a5770690",
   "metadata": {},
   "outputs": [
    {
     "name": "stdout",
     "output_type": "stream",
     "text": [
      "[14.77972123 -3.34422747]\n"
     ]
    }
   ],
   "source": [
    "X_new = np.array([[2,-1],[4,5]])\n",
    "y_pred = model.predict(X_new) #predictions\n",
    "print(y_pred)"
   ]
  },
  {
   "cell_type": "code",
   "execution_count": 67,
   "id": "f703113a",
   "metadata": {},
   "outputs": [],
   "source": [
    "from sklearn.metrics import mean_squared_error"
   ]
  },
  {
   "cell_type": "code",
   "execution_count": 68,
   "id": "1ec63719",
   "metadata": {},
   "outputs": [
    {
     "data": {
      "text/plain": [
       "0.16966822767360393"
      ]
     },
     "execution_count": 68,
     "metadata": {},
     "output_type": "execute_result"
    }
   ],
   "source": [
    "mean_squared_error(y, model.predict(X))"
   ]
  },
  {
   "cell_type": "markdown",
   "id": "4be70948",
   "metadata": {},
   "source": [
    "<h4> Exercise3: Consider the BostonHousing dataset. Split the data into training and test sets using an 4:1 ratio. Build a linear model to predict $medv$ using $indus$ and $rm$ as predictors. Evaluate the model's performance using $MSE$ and $R^2$ on both the training and test sets. Finally, analyze and interpret the results."
   ]
  },
  {
   "cell_type": "code",
   "execution_count": 69,
   "id": "866da614",
   "metadata": {},
   "outputs": [
    {
     "data": {
      "text/html": [
       "<div>\n",
       "<style scoped>\n",
       "    .dataframe tbody tr th:only-of-type {\n",
       "        vertical-align: middle;\n",
       "    }\n",
       "\n",
       "    .dataframe tbody tr th {\n",
       "        vertical-align: top;\n",
       "    }\n",
       "\n",
       "    .dataframe thead th {\n",
       "        text-align: right;\n",
       "    }\n",
       "</style>\n",
       "<table border=\"1\" class=\"dataframe\">\n",
       "  <thead>\n",
       "    <tr style=\"text-align: right;\">\n",
       "      <th></th>\n",
       "      <th>crim</th>\n",
       "      <th>zn</th>\n",
       "      <th>indus</th>\n",
       "      <th>chas</th>\n",
       "      <th>nox</th>\n",
       "      <th>rm</th>\n",
       "      <th>age</th>\n",
       "      <th>dis</th>\n",
       "      <th>rad</th>\n",
       "      <th>tax</th>\n",
       "      <th>ptratio</th>\n",
       "      <th>b</th>\n",
       "      <th>lstat</th>\n",
       "      <th>medv</th>\n",
       "    </tr>\n",
       "  </thead>\n",
       "  <tbody>\n",
       "    <tr>\n",
       "      <th>0</th>\n",
       "      <td>0.00632</td>\n",
       "      <td>18.0</td>\n",
       "      <td>2.31</td>\n",
       "      <td>0</td>\n",
       "      <td>0.538</td>\n",
       "      <td>6.575</td>\n",
       "      <td>65.2</td>\n",
       "      <td>4.0900</td>\n",
       "      <td>1</td>\n",
       "      <td>296</td>\n",
       "      <td>15.3</td>\n",
       "      <td>396.90</td>\n",
       "      <td>4.98</td>\n",
       "      <td>24.0</td>\n",
       "    </tr>\n",
       "    <tr>\n",
       "      <th>1</th>\n",
       "      <td>0.02731</td>\n",
       "      <td>0.0</td>\n",
       "      <td>7.07</td>\n",
       "      <td>0</td>\n",
       "      <td>0.469</td>\n",
       "      <td>6.421</td>\n",
       "      <td>78.9</td>\n",
       "      <td>4.9671</td>\n",
       "      <td>2</td>\n",
       "      <td>242</td>\n",
       "      <td>17.8</td>\n",
       "      <td>396.90</td>\n",
       "      <td>9.14</td>\n",
       "      <td>21.6</td>\n",
       "    </tr>\n",
       "    <tr>\n",
       "      <th>2</th>\n",
       "      <td>0.02729</td>\n",
       "      <td>0.0</td>\n",
       "      <td>7.07</td>\n",
       "      <td>0</td>\n",
       "      <td>0.469</td>\n",
       "      <td>7.185</td>\n",
       "      <td>61.1</td>\n",
       "      <td>4.9671</td>\n",
       "      <td>2</td>\n",
       "      <td>242</td>\n",
       "      <td>17.8</td>\n",
       "      <td>392.83</td>\n",
       "      <td>4.03</td>\n",
       "      <td>34.7</td>\n",
       "    </tr>\n",
       "    <tr>\n",
       "      <th>3</th>\n",
       "      <td>0.03237</td>\n",
       "      <td>0.0</td>\n",
       "      <td>2.18</td>\n",
       "      <td>0</td>\n",
       "      <td>0.458</td>\n",
       "      <td>6.998</td>\n",
       "      <td>45.8</td>\n",
       "      <td>6.0622</td>\n",
       "      <td>3</td>\n",
       "      <td>222</td>\n",
       "      <td>18.7</td>\n",
       "      <td>394.63</td>\n",
       "      <td>2.94</td>\n",
       "      <td>33.4</td>\n",
       "    </tr>\n",
       "    <tr>\n",
       "      <th>4</th>\n",
       "      <td>0.06905</td>\n",
       "      <td>0.0</td>\n",
       "      <td>2.18</td>\n",
       "      <td>0</td>\n",
       "      <td>0.458</td>\n",
       "      <td>7.147</td>\n",
       "      <td>54.2</td>\n",
       "      <td>6.0622</td>\n",
       "      <td>3</td>\n",
       "      <td>222</td>\n",
       "      <td>18.7</td>\n",
       "      <td>396.90</td>\n",
       "      <td>5.33</td>\n",
       "      <td>36.2</td>\n",
       "    </tr>\n",
       "  </tbody>\n",
       "</table>\n",
       "</div>"
      ],
      "text/plain": [
       "      crim    zn  indus  chas    nox     rm   age     dis  rad  tax  ptratio  \\\n",
       "0  0.00632  18.0   2.31     0  0.538  6.575  65.2  4.0900    1  296     15.3   \n",
       "1  0.02731   0.0   7.07     0  0.469  6.421  78.9  4.9671    2  242     17.8   \n",
       "2  0.02729   0.0   7.07     0  0.469  7.185  61.1  4.9671    2  242     17.8   \n",
       "3  0.03237   0.0   2.18     0  0.458  6.998  45.8  6.0622    3  222     18.7   \n",
       "4  0.06905   0.0   2.18     0  0.458  7.147  54.2  6.0622    3  222     18.7   \n",
       "\n",
       "        b  lstat  medv  \n",
       "0  396.90   4.98  24.0  \n",
       "1  396.90   9.14  21.6  \n",
       "2  392.83   4.03  34.7  \n",
       "3  394.63   2.94  33.4  \n",
       "4  396.90   5.33  36.2  "
      ]
     },
     "execution_count": 69,
     "metadata": {},
     "output_type": "execute_result"
    }
   ],
   "source": [
    "df = pd.read_csv('BostonHousing.csv')\n",
    "df.head()"
   ]
  },
  {
   "cell_type": "code",
   "execution_count": 70,
   "id": "8415d3a6",
   "metadata": {},
   "outputs": [
    {
     "name": "stdout",
     "output_type": "stream",
     "text": [
      "\n",
      "**Data Set Characteristics:**  \n",
      "\n",
      "    :Number of Instances: 506 \n",
      "\n",
      "    :Number of Attributes: 13 numeric/categorical predictive. Median Value (attribute 14) is usually the target.\n",
      "\n",
      "    :Attribute Information (in order):\n",
      "        - CRIM     per capita crime rate by town\n",
      "        - ZN       proportion of residential land zoned for lots over 25,000 sq.ft.\n",
      "        - INDUS    proportion of non-retail business acres per town\n",
      "        - CHAS     Charles River dummy variable (= 1 if tract bounds river; 0 otherwise)\n",
      "        - NOX      nitric oxides concentration (parts per 10 million)\n",
      "        - RM       average number of rooms per dwelling\n",
      "        - AGE      proportion of owner-occupied units built prior to 1940\n",
      "        - DIS      weighted distances to five Boston employment centres\n",
      "        - RAD      index of accessibility to radial highways\n",
      "        - TAX      full-value property-tax rate per $10,000\n",
      "        - PTRATIO  pupil-teacher ratio by town\n",
      "        - B        1000(Bk - 0.63)^2 where Bk is the proportion of black people by town\n",
      "        - LSTAT    % lower status of the population\n",
      "        - MEDV     Median value of owner-occupied homes in $1000's\n",
      "\n"
     ]
    }
   ],
   "source": [
    "print(\"\"\"\n",
    "**Data Set Characteristics:**  \n",
    "\n",
    "    :Number of Instances: 506 \n",
    "\n",
    "    :Number of Attributes: 13 numeric/categorical predictive. Median Value (attribute 14) is usually the target.\n",
    "\n",
    "    :Attribute Information (in order):\n",
    "        - CRIM     per capita crime rate by town\n",
    "        - ZN       proportion of residential land zoned for lots over 25,000 sq.ft.\n",
    "        - INDUS    proportion of non-retail business acres per town\n",
    "        - CHAS     Charles River dummy variable (= 1 if tract bounds river; 0 otherwise)\n",
    "        - NOX      nitric oxides concentration (parts per 10 million)\n",
    "        - RM       average number of rooms per dwelling\n",
    "        - AGE      proportion of owner-occupied units built prior to 1940\n",
    "        - DIS      weighted distances to five Boston employment centres\n",
    "        - RAD      index of accessibility to radial highways\n",
    "        - TAX      full-value property-tax rate per $10,000\n",
    "        - PTRATIO  pupil-teacher ratio by town\n",
    "        - B        1000(Bk - 0.63)^2 where Bk is the proportion of black people by town\n",
    "        - LSTAT    % lower status of the population\n",
    "        - MEDV     Median value of owner-occupied homes in $1000's\n",
    "\"\"\")"
   ]
  },
  {
   "cell_type": "code",
   "execution_count": 71,
   "id": "915af732",
   "metadata": {},
   "outputs": [],
   "source": [
    "d2 = df[[\"indus\",\"rm\"]] #extract 2 features: INDUS, RM\n",
    "target = df['medv']"
   ]
  },
  {
   "cell_type": "code",
   "execution_count": 72,
   "id": "db17a27d",
   "metadata": {},
   "outputs": [
    {
     "data": {
      "image/png": "[encoded data removed]",
      "text/plain": [
       "<Figure size 640x480 with 1 Axes>"
      ]
     },
     "metadata": {},
     "output_type": "display_data"
    },
    {
     "data": {
      "image/png": "[encoded data removed]",
      "text/plain": [
       "<Figure size 640x480 with 1 Axes>"
      ]
     },
     "metadata": {},
     "output_type": "display_data"
    }
   ],
   "source": [
    "plt.title('Industrialness vs Med House Price')\n",
    "plt.scatter(d2.iloc[:, 0], target)\n",
    "plt.xlabel('Industrialness')\n",
    "plt.ylabel('Med House Price')\n",
    "plt.show()\n",
    "\n",
    "plt.title('Avg Num Rooms vs Med House Price')\n",
    "plt.scatter(d2.iloc[:, 1], target)\n",
    "plt.xlabel('Avg Num Rooms')\n",
    "plt.ylabel('Med House Price')\n",
    "plt.show()"
   ]
  },
  {
   "cell_type": "markdown",
   "id": "2b43f284",
   "metadata": {},
   "source": [
    "<h4> Exercise4: Consider the BostonHousing dataset once again. Split the data into training and test sets using an 4:1 ratio. Build a nonlinear model to predict $medv$ using $indus$ and $rm$ as predictors, exploring different transformations. Evaluate the model's performance using $MSE$ on both the training and test sets. Finally, analyze and interpret the results."
   ]
  },
  {
   "cell_type": "markdown",
   "id": "9f09cee8",
   "metadata": {},
   "source": [
    "<h4> Exercise5: Cosider the following data"
   ]
  },
  {
   "cell_type": "code",
   "execution_count": 107,
   "id": "3e00e64f",
   "metadata": {},
   "outputs": [
    {
     "data": {
      "image/png": "[encoded data removed]",
      "text/plain": [
       "<Figure size 640x480 with 1 Axes>"
      ]
     },
     "metadata": {},
     "output_type": "display_data"
    }
   ],
   "source": [
    "x = np.array([-2.0, -1.68, -1.37, -1.05, -0.74, -0.42, -0.11, 0.21, 0.53, 0.84, 1.16, 1.47, 1.79, 2.11, 2.42, 2.74, 3.05, 3.37, 3.68, 4.0])\n",
    "y = np.array([9.58, 8.05, 6.71, 5.57, 4.65, 4.03, 3.36, 2.81, 2.3, 1.83, 1.65, 1.37, 1.15, 0.99, 0.86, 0.65, 0.54, 0.43, 0.4, 0.29])\n",
    "\n",
    "plt.scatter(x,y)\n",
    "plt.show()"
   ]
  },
  {
   "cell_type": "markdown",
   "id": "6eefe34c",
   "metadata": {},
   "source": [
    "<h4> Assume the dependence between $y$ and $x$ can be described by the formula $y = ae^{-bx}$. Find parameters $a$ and $b$ using:\n",
    "    \n",
    "- The gradient descent method\n",
    "\n",
    "- A built-in linear model"
   ]
  },
  {
   "cell_type": "markdown",
   "id": "6b4cd9e6",
   "metadata": {},
   "source": [
    "<h3> Supplementary materials"
   ]
  },
  {
   "cell_type": "markdown",
   "id": "7729d576",
   "metadata": {},
   "source": [
    "* Rregularization L1 (lasso regression)\n"
   ]
  },
  {
   "cell_type": "code",
   "execution_count": 31,
   "id": "c948fa01",
   "metadata": {},
   "outputs": [],
   "source": [
    "from sklearn import linear_model\n",
    "X = np.array([[1,4],[5,6],[2,2],[6,7],[9,-4],[-2,-3],[-5,1]])\n",
    "y = np.dot(X, [3, -4])+5+np.random.normal(0,1, 7)  #y=3x1-4x2+5\n",
    "\n",
    "\n",
    "model = linear_model.Lasso(alpha=0.1)  \n",
    "model.fit(X,y);"
   ]
  },
  {
   "cell_type": "code",
   "execution_count": 34,
   "id": "4f853f0a",
   "metadata": {},
   "outputs": [
    {
     "name": "stdout",
     "output_type": "stream",
     "text": [
      "[ 2.88315106 -3.97465387]\n",
      "\n",
      "5.127482084829122\n"
     ]
    }
   ],
   "source": [
    "print(model.coef_)\n",
    "print()\n",
    "print(model.intercept_)"
   ]
  },
  {
   "cell_type": "markdown",
   "id": "d9b5d1d9",
   "metadata": {},
   "source": [
    "* Functions on vectors"
   ]
  },
  {
   "cell_type": "code",
   "execution_count": 114,
   "id": "db51301e",
   "metadata": {},
   "outputs": [
    {
     "name": "stdout",
     "output_type": "stream",
     "text": [
      "[ 0.84147098  0.90929743  0.14112001 -0.7568025 ]\n",
      "\n",
      "[0.         0.69314718 1.09861229 1.38629436]\n",
      "\n",
      "[ 2.71828183  7.3890561  20.08553692 54.59815003]\n"
     ]
    }
   ],
   "source": [
    "x = np.array([1,2,3,4])\n",
    "print(np.sin(x))\n",
    "print()\n",
    "print(np.log(x))\n",
    "print()\n",
    "print(np.exp(x))"
   ]
  },
  {
   "cell_type": "markdown",
   "id": "9c01d553",
   "metadata": {},
   "source": [
    "* Vectors into matrices\n"
   ]
  },
  {
   "cell_type": "code",
   "execution_count": 82,
   "id": "2ef460ba",
   "metadata": {},
   "outputs": [
    {
     "name": "stdout",
     "output_type": "stream",
     "text": [
      "[[1 2]\n",
      " [3 4]]\n",
      "\n",
      "[[1]\n",
      " [2]\n",
      " [3]\n",
      " [4]]\n"
     ]
    }
   ],
   "source": [
    "x = np.array([1,2,3,4])\n",
    "print(x.reshape(2,2))\n",
    "print()\n",
    "print(x.reshape(-1,1))"
   ]
  },
  {
   "cell_type": "code",
   "execution_count": 22,
   "id": "c58ef7cd",
   "metadata": {},
   "outputs": [
    {
     "name": "stdout",
     "output_type": "stream",
     "text": [
      "[[1 2 3]\n",
      " [4 5 6]]\n",
      "\n",
      "[[1 4]\n",
      " [2 5]\n",
      " [3 6]]\n"
     ]
    }
   ],
   "source": [
    "a = np.array([1, 2, 3])\n",
    "b = np.array([4, 5, 6])\n",
    "print(np.vstack((a,b)))\n",
    "print()\n",
    "print(np.transpose(np.vstack((a,b))))"
   ]
  },
  {
   "cell_type": "markdown",
   "id": "ad22fb61",
   "metadata": {},
   "source": [
    "* Find the minimum falue of $f(w_1,w_2) = (w_1-1)^2+(w_2+3)^2$"
   ]
  },
  {
   "cell_type": "code",
   "execution_count": 2,
   "id": "edde3744",
   "metadata": {},
   "outputs": [
    {
     "name": "stdout",
     "output_type": "stream",
     "text": [
      "[ 1. -3.]\n"
     ]
    }
   ],
   "source": [
    "from scipy.optimize import minimize #in-built method for minimization\n",
    "\n",
    "fun = lambda w: (w[0] - 1)**2 + (w[1] + 3)**2\n",
    "res = minimize(fun, (2, 0), method='SLSQP')\n",
    "print(res.x) #where is the minimum?"
   ]
  },
  {
   "cell_type": "code",
   "execution_count": 3,
   "id": "34dfd593",
   "metadata": {},
   "outputs": [
    {
     "data": {
      "text/plain": [
       "0"
      ]
     },
     "execution_count": 3,
     "metadata": {},
     "output_type": "execute_result"
    }
   ],
   "source": [
    "fun([1,-3])"
   ]
  }
 ],
 "metadata": {
  "kernelspec": {
   "display_name": "Python 3 (ipykernel)",
   "language": "python",
   "name": "python3"
  },
  "language_info": {
   "codemirror_mode": {
    "name": "ipython",
    "version": 3
   },
   "file_extension": ".py",
   "mimetype": "text/x-python",
   "name": "python",
   "nbconvert_exporter": "python",
   "pygments_lexer": "ipython3",
   "version": "3.11.5"
  }
 },
 "nbformat": 4,
 "nbformat_minor": 5
}
