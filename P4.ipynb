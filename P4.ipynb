{
 "cells": [
  {
   "cell_type": "markdown",
   "id": "dc8aad56",
   "metadata": {},
   "source": [
    "<h3> SciPython/Practical_classes_4"
   ]
  },
  {
   "cell_type": "markdown",
   "id": "37dc101a",
   "metadata": {},
   "source": [
    "<h4> Exercise1: One built a model for predicting the category of a binary variable $Y$ based on features $X_1$ and $X_2$.\n",
    "    \n",
    "$p = \\frac{1}{1+e^{-2X_1+4X_2+1}}$\n",
    "   \n",
    "To which category do the following observations belong according to the model?\n",
    "\n",
    "Observations:\n",
    "\n",
    "1. $X_1=3$, $X_2=1$\n",
    "2. $X_1=2$, $X_2=1$\n",
    "3. $X_1=2$, $X_2=2$\n",
    "    \n",
    "    \n",
    "If the true labels are: 1, 0, and 0, what is the value of the Binary Cross-Entropy (BCE)?"
   ]
  },
  {
   "cell_type": "markdown",
   "id": "b277a0f7",
   "metadata": {},
   "source": [
    "* How to build a logistic regression model in Python?"
   ]
  },
  {
   "cell_type": "code",
   "execution_count": 55,
   "id": "237946db",
   "metadata": {},
   "outputs": [],
   "source": [
    "from sklearn import linear_model\n",
    "\n",
    "model = linear_model.LogisticRegression()\n",
    "\n",
    "X = np.array([[1,2],[2,3],[4,5],[1,-4],[5,-7],[-3,-1]])\n",
    "y  = np.array([0, 0, 0, 1, 1, 1])\n",
    "\n",
    "model.fit(X,y);"
   ]
  },
  {
   "cell_type": "code",
   "execution_count": 20,
   "id": "f5615dc7",
   "metadata": {},
   "outputs": [
    {
     "data": {
      "text/plain": [
       "(array([[-0.39682866, -0.82497163]]), array([0.11932619]))"
      ]
     },
     "execution_count": 20,
     "metadata": {},
     "output_type": "execute_result"
    }
   ],
   "source": [
    "model.coef_, model.intercept_ #model parameters"
   ]
  },
  {
   "cell_type": "code",
   "execution_count": 21,
   "id": "f7632385",
   "metadata": {},
   "outputs": [
    {
     "data": {
      "text/plain": [
       "(array([0]), array([[0.97197068, 0.02802932]]))"
      ]
     },
     "execution_count": 21,
     "metadata": {},
     "output_type": "execute_result"
    }
   ],
   "source": [
    "model.predict([[3,3]]), model.predict_proba([[3,3]]) #class prediction and corresponding probabilities"
   ]
  },
  {
   "cell_type": "code",
   "execution_count": 22,
   "id": "c94fb737",
   "metadata": {},
   "outputs": [
    {
     "data": {
      "text/plain": [
       "1.0"
      ]
     },
     "execution_count": 22,
     "metadata": {},
     "output_type": "execute_result"
    }
   ],
   "source": [
    "model.score(X, y) #calculate the accuracy"
   ]
  },
  {
   "cell_type": "markdown",
   "id": "dd94d428",
   "metadata": {},
   "source": [
    "<h4> Exercise2: Consider Breast Cancer Dataset"
   ]
  },
  {
   "cell_type": "code",
   "execution_count": 50,
   "id": "0eaca0c2",
   "metadata": {},
   "outputs": [],
   "source": [
    "from sklearn.datasets import load_breast_cancer\n",
    "data = load_breast_cancer()\n",
    "\n",
    "X = data.data\n",
    "y = data.target"
   ]
  },
  {
   "cell_type": "code",
   "execution_count": 15,
   "id": "322e10a2",
   "metadata": {},
   "outputs": [
    {
     "name": "stdout",
     "output_type": "stream",
     "text": [
      "\n",
      "This dataset contains information about breast cancer tumors.\n",
      "The dataset includes 30 numerical features, such as:\n",
      "\n",
      "radius\n",
      "\n",
      "texture\n",
      "\n",
      "perimeter\n",
      "\n",
      "area\n",
      "\n",
      "smoothness\n",
      "... and more.\n",
      "\n",
      "Target variable:\n",
      "0 → Benign (non-cancerous)\n",
      "\n",
      "1 → Malignant (cancerous)\n",
      "\n"
     ]
    }
   ],
   "source": [
    "print(\"\"\"\n",
    "This dataset contains information about breast cancer tumors.\n",
    "The dataset includes 30 numerical features, such as:\n",
    "\n",
    "radius\n",
    "\n",
    "texture\n",
    "\n",
    "perimeter\n",
    "\n",
    "area\n",
    "\n",
    "smoothness\n",
    "... and more.\n",
    "\n",
    "Target variable:\n",
    "0 → Benign (non-cancerous)\n",
    "\n",
    "1 → Malignant (cancerous)\n",
    "\"\"\")"
   ]
  },
  {
   "cell_type": "code",
   "execution_count": 38,
   "id": "e75fffb2",
   "metadata": {},
   "outputs": [
    {
     "name": "stdout",
     "output_type": "stream",
     "text": [
      "['mean radius' 'mean texture' 'mean perimeter' 'mean area'\n",
      " 'mean smoothness' 'mean compactness' 'mean concavity'\n",
      " 'mean concave points' 'mean symmetry' 'mean fractal dimension'\n",
      " 'radius error' 'texture error' 'perimeter error' 'area error'\n",
      " 'smoothness error' 'compactness error' 'concavity error'\n",
      " 'concave points error' 'symmetry error' 'fractal dimension error'\n",
      " 'worst radius' 'worst texture' 'worst perimeter' 'worst area'\n",
      " 'worst smoothness' 'worst compactness' 'worst concavity'\n",
      " 'worst concave points' 'worst symmetry' 'worst fractal dimension']\n"
     ]
    }
   ],
   "source": [
    "print(data['feature_names'])"
   ]
  },
  {
   "cell_type": "markdown",
   "id": "00c341a2",
   "metadata": {},
   "source": [
    "<h4> The goal is to predict whether a tumor is malignant or benign based on various medical features using a logistic regression model.\n",
    "\n",
    "- What is the number of samples?\n",
    "\n",
    "- Split the dataset into training and test sets (8:2).\n",
    "\n",
    "- Train the model on the training data.\n",
    "    \n",
    "- Which features have a positive/negative impact on malignancy?\n",
    "\n",
    "- Calculate accuracy on both the training and test sets."
   ]
  },
  {
   "cell_type": "markdown",
   "id": "50b30da7",
   "metadata": {},
   "source": [
    "* More than two classes"
   ]
  },
  {
   "cell_type": "markdown",
   "id": "5259ce6e",
   "metadata": {},
   "source": [
    "In this case, we compute the probability for each category $P(Y=i) = \\frac{e^{z_i}}{\\sum_j e^{z_j}}$ where $i=1,2,...,M$."
   ]
  },
  {
   "cell_type": "code",
   "execution_count": 29,
   "id": "338ce25b",
   "metadata": {},
   "outputs": [
    {
     "name": "stdout",
     "output_type": "stream",
     "text": [
      "[[ 0.31230406  0.53275627]\n",
      " [ 0.27963836 -0.51973687]\n",
      " [-0.59194242 -0.01301941]] [ 0.65089809 -0.51626244 -0.13463566]\n",
      "\n",
      "[[0.07224799 0.07105358 0.85669842]]\n"
     ]
    }
   ],
   "source": [
    "from sklearn import linear_model\n",
    "\n",
    "model = linear_model.LogisticRegression(multi_class='multinomial', solver='lbfgs')\n",
    "\n",
    "X = np.array([[1,2],[2,3],[4,5],[1,-4],[5,-7],[-3,-1]])\n",
    "y  = np.array([0, 0, 0, 1, 1, 2])\n",
    "\n",
    "model.fit(X,y);\n",
    "\n",
    "print(model.coef_, model.intercept_)\n",
    "print()\n",
    "print(model.predict_proba([[-3,-1]]))"
   ]
  },
  {
   "cell_type": "markdown",
   "id": "45f6f59c",
   "metadata": {},
   "source": [
    "<h4> Exercise3: Justify the above probabilities based on the model parameters through direct calculations."
   ]
  },
  {
   "cell_type": "markdown",
   "id": "c46b8275",
   "metadata": {},
   "source": [
    "* Regularization"
   ]
  },
  {
   "cell_type": "code",
   "execution_count": 52,
   "id": "e5b5d0af",
   "metadata": {},
   "outputs": [
    {
     "name": "stdout",
     "output_type": "stream",
     "text": [
      "[[ 0.12039019  0.26800224]\n",
      " [ 0.10715927 -0.25049358]\n",
      " [-0.22754947 -0.01750865]] [ 0.48078676 -0.27241502 -0.20837174]\n",
      "\n",
      "[[0.26884397 0.22121121 0.50994482]]\n"
     ]
    }
   ],
   "source": [
    "from sklearn import linear_model\n",
    "\n",
    "model = linear_model.LogisticRegression(multi_class='multinomial', solver='lbfgs', penalty='l2', C=0.1) #C = 1/beta  (regularization L2)\n",
    "\n",
    "X = np.array([[1,2],[2,3],[4,5],[1,-4],[5,-7],[-3,-1]])\n",
    "y  = np.array([0, 0, 0, 1, 1, 2])\n",
    "\n",
    "model.fit(X,y);\n",
    "\n",
    "print(model.coef_, model.intercept_)\n",
    "print()\n",
    "print(model.predict_proba([[-3,-1]]))"
   ]
  },
  {
   "cell_type": "markdown",
   "id": "1bfb0331",
   "metadata": {},
   "source": [
    "<h4> Exercise4: Consider Wine Dataset"
   ]
  },
  {
   "cell_type": "code",
   "execution_count": 47,
   "id": "fade2cbd",
   "metadata": {},
   "outputs": [],
   "source": [
    "from sklearn.datasets import load_wine\n",
    "\n",
    "data = load_wine()\n",
    "\n",
    "X = data.data\n",
    "y = data.target"
   ]
  },
  {
   "cell_type": "code",
   "execution_count": 44,
   "id": "ca31e937",
   "metadata": {},
   "outputs": [
    {
     "name": "stdout",
     "output_type": "stream",
     "text": [
      "\n",
      "It contains data on 178 wine samples, each with 13 chemical features,\n",
      "such as alcohol content, malic acid, ash content, and color intensity,\n",
      "among others.\n",
      "\n"
     ]
    }
   ],
   "source": [
    "print(\"\"\"\n",
    "It contains data on 178 wine samples, each with 13 chemical features,\n",
    "such as alcohol content, malic acid, ash content, and color intensity,\n",
    "among others.\n",
    "\"\"\")"
   ]
  },
  {
   "cell_type": "code",
   "execution_count": 41,
   "id": "ec397cdb",
   "metadata": {},
   "outputs": [
    {
     "name": "stdout",
     "output_type": "stream",
     "text": [
      "['alcohol', 'malic_acid', 'ash', 'alcalinity_of_ash', 'magnesium', 'total_phenols', 'flavanoids', 'nonflavanoid_phenols', 'proanthocyanins', 'color_intensity', 'hue', 'od280/od315_of_diluted_wines', 'proline']\n"
     ]
    }
   ],
   "source": [
    "print(data['feature_names'])"
   ]
  },
  {
   "cell_type": "markdown",
   "id": "8bc0a43c",
   "metadata": {},
   "source": [
    "<h4> The goal is to classify wines into one of three classes (types) based on their features.\n",
    "\n",
    "- Split the dataset into training, test, and validation sets (with a ratio of 6:2:2).\n",
    "\n",
    "- Train the model using the training data. Experiment with different values for the regularization parameter $C$ (e.g., 0.001, 0.01, 0.1, 1, 10, 100). Calculate the accuracy on the validation set.\n",
    "\n",
    "- Finally, calculate the accuracy on the test set using the chosen/optimal $C$ parameter"
   ]
  },
  {
   "cell_type": "markdown",
   "id": "3b9237a1",
   "metadata": {},
   "source": [
    "* How to calculate the area under the curve?"
   ]
  },
  {
   "cell_type": "code",
   "execution_count": 54,
   "id": "2723622a",
   "metadata": {},
   "outputs": [
    {
     "data": {
      "image/png": "[encoded data removed]",
      "text/plain": [
       "<Figure size 640x480 with 1 Axes>"
      ]
     },
     "metadata": {},
     "output_type": "display_data"
    },
    {
     "name": "stdout",
     "output_type": "stream",
     "text": [
      "area = 5.5\n"
     ]
    }
   ],
   "source": [
    "import numpy as np\n",
    "import matplotlib.pyplot as plt\n",
    "from numpy import trapz\n",
    "\n",
    "x = np.array([1,3,4])\n",
    "y = np.array([1,2,3])\n",
    "\n",
    "plt.plot(x,y)\n",
    "plt.show()\n",
    "\n",
    "area = trapz(y, x)\n",
    "print(\"area =\", area)"
   ]
  },
  {
   "cell_type": "markdown",
   "id": "46a4557e",
   "metadata": {},
   "source": [
    "<h4> Exercise5: Open the \"logistic_regression\" file, which contains information about the actual classes and predictions according to the logistic regression model for subsequent observations.\n",
    "\n",
    "- Calculate the values of $S_n$ (sensitivity) and $S_p$ (specificity) for 20 equally spaced $p_c$ values ranging from 0 to 1.\n",
    "\n",
    "- Plot the ROC curve and mark the point corresponding to $p_c = 0.5$.\n",
    "\n",
    "- Calculate the Area Under the Curve (AUC)."
   ]
  }
 ],
 "metadata": {
  "kernelspec": {
   "display_name": "Python 3 (ipykernel)",
   "language": "python",
   "name": "python3"
  },
  "language_info": {
   "codemirror_mode": {
    "name": "ipython",
    "version": 3
   },
   "file_extension": ".py",
   "mimetype": "text/x-python",
   "name": "python",
   "nbconvert_exporter": "python",
   "pygments_lexer": "ipython3",
   "version": "3.11.5"
  }
 },
 "nbformat": 4,
 "nbformat_minor": 5
}
